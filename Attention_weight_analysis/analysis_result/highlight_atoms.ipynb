{
 "cells": [
  {
   "cell_type": "code",
   "execution_count": 1,
   "metadata": {},
   "outputs": [],
   "source": [
    "from rdkit import Chem\n",
    "from rdkit.Chem import Draw\n",
    "from IPython.display import SVG\n",
    "from rdkit.Chem.Draw import rdMolDraw2D\n",
    "from IPython.display import Image\n",
    "import pandas as pd"
   ]
  },
  {
   "cell_type": "code",
   "execution_count": 2,
   "metadata": {},
   "outputs": [],
   "source": [
    "drug_att = pd.read_csv('drug_attention_weights.csv')"
   ]
  },
  {
   "cell_type": "code",
   "execution_count": 3,
   "metadata": {},
   "outputs": [],
   "source": [
    "drug_att['scale'] = drug_att['weights'].apply(lambda x:((x-drug_att['weights'].min())/(drug_att['weights'].max()-drug_att['weights'].min())))"
   ]
  },
  {
   "cell_type": "code",
   "execution_count": 4,
   "metadata": {},
   "outputs": [],
   "source": [
    "def mol_with_atom_index(mol):\n",
    "    \"\"\"atom index\"\"\"\n",
    "    atoms = mol.GetNumAtoms()\n",
    "    for idx in range( atoms ):\n",
    "        mol.GetAtomWithIdx( idx ).SetProp( 'molAtomMapNumber', str( mol.GetAtomWithIdx( idx ).GetIdx() ) )\n",
    "    return mol"
   ]
  },
  {
   "cell_type": "code",
   "execution_count": 5,
   "metadata": {},
   "outputs": [],
   "source": [
    "mol = Chem.MolFromSmiles('CC1=CC=C(C=C1)N1N=C(C=C1NC(=O)NC1=CC=C(OCCN2CCOCC2)C2=C1C=CC=C2)C(C)(C)C')"
   ]
  },
  {
   "cell_type": "code",
   "execution_count": 6,
   "metadata": {},
   "outputs": [
    {
     "data": {
      "image/png": "[encoded data removed]",
      "text/plain": [
       "<rdkit.Chem.rdchem.Mol at 0x7f457de4cb30>"
      ]
     },
     "execution_count": 6,
     "metadata": {},
     "output_type": "execute_result"
    }
   ],
   "source": [
    "mol_with_atom_index(mol)"
   ]
  },
  {
   "cell_type": "code",
   "execution_count": 7,
   "metadata": {},
   "outputs": [],
   "source": [
    "indexs = drug_att[drug_att['scale']>0.85].index.tolist()\n",
    "atom_cols = {}\n",
    "atom_rs = {}\n",
    "\n",
    "for i in range(len(indexs)):\n",
    "    if indexs[i] != 14:\n",
    "        atom_cols[indexs[i]] = (176/256,224/256,230/256)\n",
    "    else:\n",
    "        atom_cols[indexs[i]] = (255/256,127/256,80/256)\n",
    "    atom_rs[indexs[i]] = 0.45"
   ]
  },
  {
   "cell_type": "code",
   "execution_count": 8,
   "metadata": {},
   "outputs": [
    {
     "data": {
      "image/svg+xml": [
       "<svg baseProfile=\"full\" height=\"450px\" version=\"1.1\" viewBox=\"0 0 450 450\" width=\"450px\" xml:space=\"preserve\" xmlns=\"http://www.w3.org/2000/svg\" xmlns:rdkit=\"http://www.rdkit.org/xml\" xmlns:xlink=\"http://www.w3.org/1999/xlink\">\n",
       "<!-- END OF HEADER -->\n",
       "<rect height=\"450.0\" style=\"opacity:1.0;fill:#FFFFFF;stroke:none\" width=\"450.0\" x=\"0.0\" y=\"0.0\"> </rect>\n",
       "<ellipse class=\"atom-14\" cx=\"192.4\" cy=\"218.0\" rx=\"9.1\" ry=\"9.1\" style=\"fill:#FE7E4F;fill-rule:evenodd;stroke:#FE7E4F;stroke-width:1.0px;stroke-linecap:butt;stroke-linejoin:miter;stroke-opacity:1\"/>\n",
       "<ellipse class=\"atom-24\" cx=\"405.4\" cy=\"216.6\" rx=\"9.1\" ry=\"9.1\" style=\"fill:#AFDFE5;fill-rule:evenodd;stroke:#AFDFE5;stroke-width:1.0px;stroke-linecap:butt;stroke-linejoin:miter;stroke-opacity:1\"/>\n",
       "<ellipse class=\"atom-25\" cx=\"420.4\" cy=\"190.2\" rx=\"9.1\" ry=\"9.1\" style=\"fill:#AFDFE5;fill-rule:evenodd;stroke:#AFDFE5;stroke-width:1.0px;stroke-linecap:butt;stroke-linejoin:miter;stroke-opacity:1\"/>\n",
       "<ellipse class=\"atom-27\" cx=\"374.6\" cy=\"164.1\" rx=\"9.1\" ry=\"9.1\" style=\"fill:#AFDFE5;fill-rule:evenodd;stroke:#AFDFE5;stroke-width:1.0px;stroke-linecap:butt;stroke-linejoin:miter;stroke-opacity:1\"/>\n",
       "<ellipse class=\"atom-28\" cx=\"359.6\" cy=\"190.6\" rx=\"9.1\" ry=\"9.1\" style=\"fill:#AFDFE5;fill-rule:evenodd;stroke:#AFDFE5;stroke-width:1.0px;stroke-linecap:butt;stroke-linejoin:miter;stroke-opacity:1\"/>\n",
       "<ellipse class=\"atom-36\" cx=\"154.3\" cy=\"143.0\" rx=\"9.1\" ry=\"9.1\" style=\"fill:#AFDFE5;fill-rule:evenodd;stroke:#AFDFE5;stroke-width:1.0px;stroke-linecap:butt;stroke-linejoin:miter;stroke-opacity:1\"/>\n",
       "<ellipse class=\"atom-37\" cx=\"93.8\" cy=\"137.0\" rx=\"9.1\" ry=\"9.1\" style=\"fill:#AFDFE5;fill-rule:evenodd;stroke:#AFDFE5;stroke-width:1.0px;stroke-linecap:butt;stroke-linejoin:miter;stroke-opacity:1\"/>\n",
       "<ellipse class=\"atom-38\" cx=\"127.0\" cy=\"109.7\" rx=\"9.1\" ry=\"9.1\" style=\"fill:#AFDFE5;fill-rule:evenodd;stroke:#AFDFE5;stroke-width:1.0px;stroke-linecap:butt;stroke-linejoin:miter;stroke-opacity:1\"/>\n",
       "<path class=\"bond-0 atom-0 atom-1\" d=\"M 20.5,306.3 L 40.7,283.6\" style=\"fill:none;fill-rule:evenodd;stroke:#000000;stroke-width:2.0px;stroke-linecap:butt;stroke-linejoin:miter;stroke-opacity:1\"/>\n",
       "<path class=\"bond-1 atom-1 atom-2\" d=\"M 40.7,283.6 L 31.1,254.7\" style=\"fill:none;fill-rule:evenodd;stroke:#000000;stroke-width:2.0px;stroke-linecap:butt;stroke-linejoin:miter;stroke-opacity:1\"/>\n",
       "<path class=\"bond-1 atom-1 atom-2\" d=\"M 44.2,279.6 L 36.3,255.7\" style=\"fill:none;fill-rule:evenodd;stroke:#000000;stroke-width:2.0px;stroke-linecap:butt;stroke-linejoin:miter;stroke-opacity:1\"/>\n",
       "<path class=\"bond-2 atom-2 atom-3\" d=\"M 31.1,254.7 L 51.3,231.9\" style=\"fill:none;fill-rule:evenodd;stroke:#000000;stroke-width:2.0px;stroke-linecap:butt;stroke-linejoin:miter;stroke-opacity:1\"/>\n",
       "<path class=\"bond-3 atom-3 atom-4\" d=\"M 51.3,231.9 L 81.1,238.1\" style=\"fill:none;fill-rule:evenodd;stroke:#000000;stroke-width:2.0px;stroke-linecap:butt;stroke-linejoin:miter;stroke-opacity:1\"/>\n",
       "<path class=\"bond-3 atom-3 atom-4\" d=\"M 53.0,236.9 L 77.6,242.0\" style=\"fill:none;fill-rule:evenodd;stroke:#000000;stroke-width:2.0px;stroke-linecap:butt;stroke-linejoin:miter;stroke-opacity:1\"/>\n",
       "<path class=\"bond-4 atom-4 atom-5\" d=\"M 81.1,238.1 L 90.7,267.0\" style=\"fill:none;fill-rule:evenodd;stroke:#000000;stroke-width:2.0px;stroke-linecap:butt;stroke-linejoin:miter;stroke-opacity:1\"/>\n",
       "<path class=\"bond-5 atom-5 atom-6\" d=\"M 90.7,267.0 L 70.5,289.7\" style=\"fill:none;fill-rule:evenodd;stroke:#000000;stroke-width:2.0px;stroke-linecap:butt;stroke-linejoin:miter;stroke-opacity:1\"/>\n",
       "<path class=\"bond-5 atom-5 atom-6\" d=\"M 85.5,265.9 L 68.8,284.7\" style=\"fill:none;fill-rule:evenodd;stroke:#000000;stroke-width:2.0px;stroke-linecap:butt;stroke-linejoin:miter;stroke-opacity:1\"/>\n",
       "<path class=\"bond-6 atom-4 atom-7\" d=\"M 81.1,238.1 L 89.1,229.1\" style=\"fill:none;fill-rule:evenodd;stroke:#000000;stroke-width:2.0px;stroke-linecap:butt;stroke-linejoin:miter;stroke-opacity:1\"/>\n",
       "<path class=\"bond-6 atom-4 atom-7\" d=\"M 89.1,229.1 L 97.0,220.2\" style=\"fill:none;fill-rule:evenodd;stroke:#0000FF;stroke-width:2.0px;stroke-linecap:butt;stroke-linejoin:miter;stroke-opacity:1\"/>\n",
       "<path class=\"bond-7 atom-7 atom-8\" d=\"M 100.2,210.0 L 96.0,190.9\" style=\"fill:none;fill-rule:evenodd;stroke:#0000FF;stroke-width:2.0px;stroke-linecap:butt;stroke-linejoin:miter;stroke-opacity:1\"/>\n",
       "<path class=\"bond-8 atom-8 atom-9\" d=\"M 99.1,183.1 L 110.1,176.7\" style=\"fill:none;fill-rule:evenodd;stroke:#0000FF;stroke-width:2.0px;stroke-linecap:butt;stroke-linejoin:miter;stroke-opacity:1\"/>\n",
       "<path class=\"bond-8 atom-8 atom-9\" d=\"M 110.1,176.7 L 121.1,170.3\" style=\"fill:none;fill-rule:evenodd;stroke:#000000;stroke-width:2.0px;stroke-linecap:butt;stroke-linejoin:miter;stroke-opacity:1\"/>\n",
       "<path class=\"bond-8 atom-8 atom-9\" d=\"M 101.4,187.1 L 110.9,181.5\" style=\"fill:none;fill-rule:evenodd;stroke:#0000FF;stroke-width:2.0px;stroke-linecap:butt;stroke-linejoin:miter;stroke-opacity:1\"/>\n",
       "<path class=\"bond-8 atom-8 atom-9\" d=\"M 110.9,181.5 L 120.5,175.9\" style=\"fill:none;fill-rule:evenodd;stroke:#000000;stroke-width:2.0px;stroke-linecap:butt;stroke-linejoin:miter;stroke-opacity:1\"/>\n",
       "<path class=\"bond-9 atom-9 atom-10\" d=\"M 121.1,170.3 L 143.8,190.5\" style=\"fill:none;fill-rule:evenodd;stroke:#000000;stroke-width:2.0px;stroke-linecap:butt;stroke-linejoin:miter;stroke-opacity:1\"/>\n",
       "<path class=\"bond-10 atom-10 atom-11\" d=\"M 143.8,190.5 L 131.6,218.3\" style=\"fill:none;fill-rule:evenodd;stroke:#000000;stroke-width:2.0px;stroke-linecap:butt;stroke-linejoin:miter;stroke-opacity:1\"/>\n",
       "<path class=\"bond-10 atom-10 atom-11\" d=\"M 138.3,191.7 L 128.7,213.5\" style=\"fill:none;fill-rule:evenodd;stroke:#000000;stroke-width:2.0px;stroke-linecap:butt;stroke-linejoin:miter;stroke-opacity:1\"/>\n",
       "<path class=\"bond-11 atom-11 atom-12\" d=\"M 131.6,218.3 L 137.7,228.8\" style=\"fill:none;fill-rule:evenodd;stroke:#000000;stroke-width:2.0px;stroke-linecap:butt;stroke-linejoin:miter;stroke-opacity:1\"/>\n",
       "<path class=\"bond-11 atom-11 atom-12\" d=\"M 137.7,228.8 L 143.9,239.3\" style=\"fill:none;fill-rule:evenodd;stroke:#0000FF;stroke-width:2.0px;stroke-linecap:butt;stroke-linejoin:miter;stroke-opacity:1\"/>\n",
       "<path class=\"bond-12 atom-12 atom-13\" d=\"M 151.2,244.6 L 164.3,244.5\" style=\"fill:none;fill-rule:evenodd;stroke:#0000FF;stroke-width:2.0px;stroke-linecap:butt;stroke-linejoin:miter;stroke-opacity:1\"/>\n",
       "<path class=\"bond-12 atom-12 atom-13\" d=\"M 164.3,244.5 L 177.4,244.4\" style=\"fill:none;fill-rule:evenodd;stroke:#000000;stroke-width:2.0px;stroke-linecap:butt;stroke-linejoin:miter;stroke-opacity:1\"/>\n",
       "<path class=\"bond-13 atom-13 atom-14\" d=\"M 178.7,246.7 L 185.0,235.6\" style=\"fill:none;fill-rule:evenodd;stroke:#000000;stroke-width:2.0px;stroke-linecap:butt;stroke-linejoin:miter;stroke-opacity:1\"/>\n",
       "<path class=\"bond-13 atom-13 atom-14\" d=\"M 185.0,235.6 L 191.3,224.6\" style=\"fill:none;fill-rule:evenodd;stroke:#FF0000;stroke-width:2.0px;stroke-linecap:butt;stroke-linejoin:miter;stroke-opacity:1\"/>\n",
       "<path class=\"bond-13 atom-13 atom-14\" d=\"M 174.7,244.4 L 181.0,233.4\" style=\"fill:none;fill-rule:evenodd;stroke:#000000;stroke-width:2.0px;stroke-linecap:butt;stroke-linejoin:miter;stroke-opacity:1\"/>\n",
       "<path class=\"bond-13 atom-13 atom-14\" d=\"M 181.0,233.4 L 187.3,222.3\" style=\"fill:none;fill-rule:evenodd;stroke:#FF0000;stroke-width:2.0px;stroke-linecap:butt;stroke-linejoin:miter;stroke-opacity:1\"/>\n",
       "<path class=\"bond-14 atom-13 atom-15\" d=\"M 177.4,244.4 L 183.5,254.9\" style=\"fill:none;fill-rule:evenodd;stroke:#000000;stroke-width:2.0px;stroke-linecap:butt;stroke-linejoin:miter;stroke-opacity:1\"/>\n",
       "<path class=\"bond-14 atom-13 atom-15\" d=\"M 183.5,254.9 L 189.6,265.3\" style=\"fill:none;fill-rule:evenodd;stroke:#0000FF;stroke-width:2.0px;stroke-linecap:butt;stroke-linejoin:miter;stroke-opacity:1\"/>\n",
       "<path class=\"bond-15 atom-15 atom-16\" d=\"M 197.0,270.6 L 210.1,270.6\" style=\"fill:none;fill-rule:evenodd;stroke:#0000FF;stroke-width:2.0px;stroke-linecap:butt;stroke-linejoin:miter;stroke-opacity:1\"/>\n",
       "<path class=\"bond-15 atom-15 atom-16\" d=\"M 210.1,270.6 L 223.2,270.5\" style=\"fill:none;fill-rule:evenodd;stroke:#000000;stroke-width:2.0px;stroke-linecap:butt;stroke-linejoin:miter;stroke-opacity:1\"/>\n",
       "<path class=\"bond-16 atom-16 atom-17\" d=\"M 223.2,270.5 L 238.2,244.0\" style=\"fill:none;fill-rule:evenodd;stroke:#000000;stroke-width:2.0px;stroke-linecap:butt;stroke-linejoin:miter;stroke-opacity:1\"/>\n",
       "<path class=\"bond-16 atom-16 atom-17\" d=\"M 228.4,270.4 L 240.9,248.6\" style=\"fill:none;fill-rule:evenodd;stroke:#000000;stroke-width:2.0px;stroke-linecap:butt;stroke-linejoin:miter;stroke-opacity:1\"/>\n",
       "<path class=\"bond-17 atom-17 atom-18\" d=\"M 238.2,244.0 L 268.6,243.8\" style=\"fill:none;fill-rule:evenodd;stroke:#000000;stroke-width:2.0px;stroke-linecap:butt;stroke-linejoin:miter;stroke-opacity:1\"/>\n",
       "<path class=\"bond-18 atom-18 atom-19\" d=\"M 268.6,243.8 L 284.0,270.1\" style=\"fill:none;fill-rule:evenodd;stroke:#000000;stroke-width:2.0px;stroke-linecap:butt;stroke-linejoin:miter;stroke-opacity:1\"/>\n",
       "<path class=\"bond-18 atom-18 atom-19\" d=\"M 266.0,248.4 L 278.7,270.1\" style=\"fill:none;fill-rule:evenodd;stroke:#000000;stroke-width:2.0px;stroke-linecap:butt;stroke-linejoin:miter;stroke-opacity:1\"/>\n",
       "<path class=\"bond-19 atom-19 atom-20\" d=\"M 284.0,270.1 L 296.7,270.0\" style=\"fill:none;fill-rule:evenodd;stroke:#000000;stroke-width:2.0px;stroke-linecap:butt;stroke-linejoin:miter;stroke-opacity:1\"/>\n",
       "<path class=\"bond-19 atom-19 atom-20\" d=\"M 296.7,270.0 L 309.5,269.9\" style=\"fill:none;fill-rule:evenodd;stroke:#FF0000;stroke-width:2.0px;stroke-linecap:butt;stroke-linejoin:miter;stroke-opacity:1\"/>\n",
       "<path class=\"bond-20 atom-20 atom-21\" d=\"M 317.5,264.5 L 323.5,254.0\" style=\"fill:none;fill-rule:evenodd;stroke:#FF0000;stroke-width:2.0px;stroke-linecap:butt;stroke-linejoin:miter;stroke-opacity:1\"/>\n",
       "<path class=\"bond-20 atom-20 atom-21\" d=\"M 323.5,254.0 L 329.5,243.5\" style=\"fill:none;fill-rule:evenodd;stroke:#000000;stroke-width:2.0px;stroke-linecap:butt;stroke-linejoin:miter;stroke-opacity:1\"/>\n",
       "<path class=\"bond-21 atom-21 atom-22\" d=\"M 329.5,243.5 L 359.9,243.3\" style=\"fill:none;fill-rule:evenodd;stroke:#000000;stroke-width:2.0px;stroke-linecap:butt;stroke-linejoin:miter;stroke-opacity:1\"/>\n",
       "<path class=\"bond-22 atom-22 atom-23\" d=\"M 359.9,243.3 L 365.9,232.7\" style=\"fill:none;fill-rule:evenodd;stroke:#000000;stroke-width:2.0px;stroke-linecap:butt;stroke-linejoin:miter;stroke-opacity:1\"/>\n",
       "<path class=\"bond-22 atom-22 atom-23\" d=\"M 365.9,232.7 L 371.9,222.1\" style=\"fill:none;fill-rule:evenodd;stroke:#0000FF;stroke-width:2.0px;stroke-linecap:butt;stroke-linejoin:miter;stroke-opacity:1\"/>\n",
       "<path class=\"bond-23 atom-23 atom-24\" d=\"M 379.2,216.8 L 392.3,216.7\" style=\"fill:none;fill-rule:evenodd;stroke:#0000FF;stroke-width:2.0px;stroke-linecap:butt;stroke-linejoin:miter;stroke-opacity:1\"/>\n",
       "<path class=\"bond-23 atom-23 atom-24\" d=\"M 392.3,216.7 L 405.4,216.6\" style=\"fill:none;fill-rule:evenodd;stroke:#000000;stroke-width:2.0px;stroke-linecap:butt;stroke-linejoin:miter;stroke-opacity:1\"/>\n",
       "<path class=\"bond-24 atom-24 atom-25\" d=\"M 405.4,216.6 L 420.4,190.2\" style=\"fill:none;fill-rule:evenodd;stroke:#000000;stroke-width:2.0px;stroke-linecap:butt;stroke-linejoin:miter;stroke-opacity:1\"/>\n",
       "<path class=\"bond-25 atom-25 atom-26\" d=\"M 420.4,190.2 L 414.3,179.8\" style=\"fill:none;fill-rule:evenodd;stroke:#000000;stroke-width:2.0px;stroke-linecap:butt;stroke-linejoin:miter;stroke-opacity:1\"/>\n",
       "<path class=\"bond-25 atom-25 atom-26\" d=\"M 414.3,179.8 L 408.3,169.5\" style=\"fill:none;fill-rule:evenodd;stroke:#FF0000;stroke-width:2.0px;stroke-linecap:butt;stroke-linejoin:miter;stroke-opacity:1\"/>\n",
       "<path class=\"bond-26 atom-26 atom-27\" d=\"M 400.1,164.0 L 387.4,164.1\" style=\"fill:none;fill-rule:evenodd;stroke:#FF0000;stroke-width:2.0px;stroke-linecap:butt;stroke-linejoin:miter;stroke-opacity:1\"/>\n",
       "<path class=\"bond-26 atom-26 atom-27\" d=\"M 387.4,164.1 L 374.6,164.1\" style=\"fill:none;fill-rule:evenodd;stroke:#000000;stroke-width:2.0px;stroke-linecap:butt;stroke-linejoin:miter;stroke-opacity:1\"/>\n",
       "<path class=\"bond-27 atom-27 atom-28\" d=\"M 374.6,164.1 L 359.6,190.6\" style=\"fill:none;fill-rule:evenodd;stroke:#000000;stroke-width:2.0px;stroke-linecap:butt;stroke-linejoin:miter;stroke-opacity:1\"/>\n",
       "<path class=\"bond-28 atom-19 atom-29\" d=\"M 284.0,270.1 L 269.0,296.5\" style=\"fill:none;fill-rule:evenodd;stroke:#000000;stroke-width:2.0px;stroke-linecap:butt;stroke-linejoin:miter;stroke-opacity:1\"/>\n",
       "<path class=\"bond-29 atom-29 atom-30\" d=\"M 269.0,296.5 L 238.5,296.7\" style=\"fill:none;fill-rule:evenodd;stroke:#000000;stroke-width:2.0px;stroke-linecap:butt;stroke-linejoin:miter;stroke-opacity:1\"/>\n",
       "<path class=\"bond-29 atom-29 atom-30\" d=\"M 266.3,292.0 L 241.2,292.1\" style=\"fill:none;fill-rule:evenodd;stroke:#000000;stroke-width:2.0px;stroke-linecap:butt;stroke-linejoin:miter;stroke-opacity:1\"/>\n",
       "<path class=\"bond-30 atom-30 atom-31\" d=\"M 238.5,296.7 L 223.5,323.2\" style=\"fill:none;fill-rule:evenodd;stroke:#000000;stroke-width:2.0px;stroke-linecap:butt;stroke-linejoin:miter;stroke-opacity:1\"/>\n",
       "<path class=\"bond-31 atom-31 atom-32\" d=\"M 223.5,323.2 L 238.9,349.4\" style=\"fill:none;fill-rule:evenodd;stroke:#000000;stroke-width:2.0px;stroke-linecap:butt;stroke-linejoin:miter;stroke-opacity:1\"/>\n",
       "<path class=\"bond-31 atom-31 atom-32\" d=\"M 228.8,323.1 L 241.5,344.8\" style=\"fill:none;fill-rule:evenodd;stroke:#000000;stroke-width:2.0px;stroke-linecap:butt;stroke-linejoin:miter;stroke-opacity:1\"/>\n",
       "<path class=\"bond-32 atom-32 atom-33\" d=\"M 238.9,349.4 L 269.3,349.2\" style=\"fill:none;fill-rule:evenodd;stroke:#000000;stroke-width:2.0px;stroke-linecap:butt;stroke-linejoin:miter;stroke-opacity:1\"/>\n",
       "<path class=\"bond-33 atom-33 atom-34\" d=\"M 269.3,349.2 L 284.3,322.8\" style=\"fill:none;fill-rule:evenodd;stroke:#000000;stroke-width:2.0px;stroke-linecap:butt;stroke-linejoin:miter;stroke-opacity:1\"/>\n",
       "<path class=\"bond-33 atom-33 atom-34\" d=\"M 266.6,344.7 L 279.1,322.8\" style=\"fill:none;fill-rule:evenodd;stroke:#000000;stroke-width:2.0px;stroke-linecap:butt;stroke-linejoin:miter;stroke-opacity:1\"/>\n",
       "<path class=\"bond-34 atom-9 atom-35\" d=\"M 121.1,170.3 L 124.0,140.0\" style=\"fill:none;fill-rule:evenodd;stroke:#000000;stroke-width:2.0px;stroke-linecap:butt;stroke-linejoin:miter;stroke-opacity:1\"/>\n",
       "<path class=\"bond-35 atom-35 atom-36\" d=\"M 124.0,140.0 L 154.3,143.0\" style=\"fill:none;fill-rule:evenodd;stroke:#000000;stroke-width:2.0px;stroke-linecap:butt;stroke-linejoin:miter;stroke-opacity:1\"/>\n",
       "<path class=\"bond-36 atom-35 atom-37\" d=\"M 124.0,140.0 L 93.8,137.0\" style=\"fill:none;fill-rule:evenodd;stroke:#000000;stroke-width:2.0px;stroke-linecap:butt;stroke-linejoin:miter;stroke-opacity:1\"/>\n",
       "<path class=\"bond-37 atom-35 atom-38\" d=\"M 124.0,140.0 L 127.0,109.7\" style=\"fill:none;fill-rule:evenodd;stroke:#000000;stroke-width:2.0px;stroke-linecap:butt;stroke-linejoin:miter;stroke-opacity:1\"/>\n",
       "<path class=\"bond-38 atom-6 atom-1\" d=\"M 70.5,289.7 L 40.7,283.6\" style=\"fill:none;fill-rule:evenodd;stroke:#000000;stroke-width:2.0px;stroke-linecap:butt;stroke-linejoin:miter;stroke-opacity:1\"/>\n",
       "<path class=\"bond-39 atom-11 atom-7\" d=\"M 131.6,218.3 L 118.6,217.1\" style=\"fill:none;fill-rule:evenodd;stroke:#000000;stroke-width:2.0px;stroke-linecap:butt;stroke-linejoin:miter;stroke-opacity:1\"/>\n",
       "<path class=\"bond-39 atom-11 atom-7\" d=\"M 118.6,217.1 L 105.6,215.8\" style=\"fill:none;fill-rule:evenodd;stroke:#0000FF;stroke-width:2.0px;stroke-linecap:butt;stroke-linejoin:miter;stroke-opacity:1\"/>\n",
       "<path class=\"bond-40 atom-30 atom-16\" d=\"M 238.5,296.7 L 223.2,270.5\" style=\"fill:none;fill-rule:evenodd;stroke:#000000;stroke-width:2.0px;stroke-linecap:butt;stroke-linejoin:miter;stroke-opacity:1\"/>\n",
       "<path class=\"bond-41 atom-28 atom-23\" d=\"M 359.6,190.6 L 365.7,201.1\" style=\"fill:none;fill-rule:evenodd;stroke:#000000;stroke-width:2.0px;stroke-linecap:butt;stroke-linejoin:miter;stroke-opacity:1\"/>\n",
       "<path class=\"bond-41 atom-28 atom-23\" d=\"M 365.7,201.1 L 371.8,211.5\" style=\"fill:none;fill-rule:evenodd;stroke:#0000FF;stroke-width:2.0px;stroke-linecap:butt;stroke-linejoin:miter;stroke-opacity:1\"/>\n",
       "<path class=\"bond-42 atom-34 atom-29\" d=\"M 284.3,322.8 L 269.0,296.5\" style=\"fill:none;fill-rule:evenodd;stroke:#000000;stroke-width:2.0px;stroke-linecap:butt;stroke-linejoin:miter;stroke-opacity:1\"/>\n",
       "<path d=\"M 31.6,256.1 L 31.1,254.7 L 32.1,253.5\" style=\"fill:none;stroke:#000000;stroke-width:2.0px;stroke-linecap:butt;stroke-linejoin:miter;stroke-opacity:1;\"/>\n",
       "<path d=\"M 50.3,233.1 L 51.3,231.9 L 52.8,232.3\" style=\"fill:none;stroke:#000000;stroke-width:2.0px;stroke-linecap:butt;stroke-linejoin:miter;stroke-opacity:1;\"/>\n",
       "<path d=\"M 90.2,265.5 L 90.7,267.0 L 89.7,268.1\" style=\"fill:none;stroke:#000000;stroke-width:2.0px;stroke-linecap:butt;stroke-linejoin:miter;stroke-opacity:1;\"/>\n",
       "<path d=\"M 71.5,288.6 L 70.5,289.7 L 69.0,289.4\" style=\"fill:none;stroke:#000000;stroke-width:2.0px;stroke-linecap:butt;stroke-linejoin:miter;stroke-opacity:1;\"/>\n",
       "<path d=\"M 142.7,189.5 L 143.8,190.5 L 143.2,191.9\" style=\"fill:none;stroke:#000000;stroke-width:2.0px;stroke-linecap:butt;stroke-linejoin:miter;stroke-opacity:1;\"/>\n",
       "<path d=\"M 176.7,244.4 L 177.4,244.4 L 177.7,244.9\" style=\"fill:none;stroke:#000000;stroke-width:2.0px;stroke-linecap:butt;stroke-linejoin:miter;stroke-opacity:1;\"/>\n",
       "<path d=\"M 237.5,245.4 L 238.2,244.0 L 239.7,244.0\" style=\"fill:none;stroke:#000000;stroke-width:2.0px;stroke-linecap:butt;stroke-linejoin:miter;stroke-opacity:1;\"/>\n",
       "<path d=\"M 267.1,243.9 L 268.6,243.8 L 269.4,245.2\" style=\"fill:none;stroke:#000000;stroke-width:2.0px;stroke-linecap:butt;stroke-linejoin:miter;stroke-opacity:1;\"/>\n",
       "<path d=\"M 329.2,244.0 L 329.5,243.5 L 331.0,243.5\" style=\"fill:none;stroke:#000000;stroke-width:2.0px;stroke-linecap:butt;stroke-linejoin:miter;stroke-opacity:1;\"/>\n",
       "<path d=\"M 358.4,243.3 L 359.9,243.3 L 360.2,242.7\" style=\"fill:none;stroke:#000000;stroke-width:2.0px;stroke-linecap:butt;stroke-linejoin:miter;stroke-opacity:1;\"/>\n",
       "<path d=\"M 404.7,216.7 L 405.4,216.6 L 406.1,215.3\" style=\"fill:none;stroke:#000000;stroke-width:2.0px;stroke-linecap:butt;stroke-linejoin:miter;stroke-opacity:1;\"/>\n",
       "<path d=\"M 419.7,191.5 L 420.4,190.2 L 420.1,189.7\" style=\"fill:none;stroke:#000000;stroke-width:2.0px;stroke-linecap:butt;stroke-linejoin:miter;stroke-opacity:1;\"/>\n",
       "<path d=\"M 375.3,164.1 L 374.6,164.1 L 373.9,165.5\" style=\"fill:none;stroke:#000000;stroke-width:2.0px;stroke-linecap:butt;stroke-linejoin:miter;stroke-opacity:1;\"/>\n",
       "<path d=\"M 360.3,189.3 L 359.6,190.6 L 359.9,191.1\" style=\"fill:none;stroke:#000000;stroke-width:2.0px;stroke-linecap:butt;stroke-linejoin:miter;stroke-opacity:1;\"/>\n",
       "<path d=\"M 224.3,321.8 L 223.5,323.2 L 224.3,324.5\" style=\"fill:none;stroke:#000000;stroke-width:2.0px;stroke-linecap:butt;stroke-linejoin:miter;stroke-opacity:1;\"/>\n",
       "<path d=\"M 238.1,348.1 L 238.9,349.4 L 240.4,349.4\" style=\"fill:none;stroke:#000000;stroke-width:2.0px;stroke-linecap:butt;stroke-linejoin:miter;stroke-opacity:1;\"/>\n",
       "<path d=\"M 267.8,349.2 L 269.3,349.2 L 270.0,347.9\" style=\"fill:none;stroke:#000000;stroke-width:2.0px;stroke-linecap:butt;stroke-linejoin:miter;stroke-opacity:1;\"/>\n",
       "<path d=\"M 283.6,324.1 L 284.3,322.8 L 283.6,321.5\" style=\"fill:none;stroke:#000000;stroke-width:2.0px;stroke-linecap:butt;stroke-linejoin:miter;stroke-opacity:1;\"/>\n",
       "<path class=\"atom-7\" d=\"M 99.4 211.0 L 102.2 215.6 Q 102.5 216.1, 103.0 216.9 Q 103.4 217.7, 103.4 217.7 L 103.4 211.0 L 104.6 211.0 L 104.6 219.7 L 103.4 219.7 L 100.4 214.7 Q 100.0 214.1, 99.6 213.4 Q 99.3 212.7, 99.2 212.5 L 99.2 219.7 L 98.0 219.7 L 98.0 211.0 L 99.4 211.0 \" fill=\"#0000FF\"/>\n",
       "<path class=\"atom-8\" d=\"M 92.9 181.3 L 95.7 185.9 Q 96.0 186.3, 96.5 187.2 Q 96.9 188.0, 96.9 188.0 L 96.9 181.3 L 98.1 181.3 L 98.1 189.9 L 96.9 189.9 L 93.9 185.0 Q 93.5 184.4, 93.1 183.7 Q 92.8 183.0, 92.7 182.8 L 92.7 189.9 L 91.5 189.9 L 91.5 181.3 L 92.9 181.3 \" fill=\"#0000FF\"/>\n",
       "<path class=\"atom-12\" d=\"M 135.3 240.3 L 136.4 240.3 L 136.4 244.0 L 140.8 244.0 L 140.8 240.3 L 142.0 240.3 L 142.0 248.9 L 140.8 248.9 L 140.8 244.9 L 136.4 244.9 L 136.4 248.9 L 135.3 248.9 L 135.3 240.3 \" fill=\"#0000FF\"/>\n",
       "<path class=\"atom-12\" d=\"M 145.1 240.3 L 147.9 244.9 Q 148.2 245.3, 148.6 246.1 Q 149.1 246.9, 149.1 247.0 L 149.1 240.3 L 150.2 240.3 L 150.2 248.9 L 149.0 248.9 L 146.0 243.9 Q 145.7 243.3, 145.3 242.7 Q 144.9 242.0, 144.8 241.8 L 144.8 248.9 L 143.7 248.9 L 143.7 240.3 L 145.1 240.3 \" fill=\"#0000FF\"/>\n",
       "<path class=\"atom-14\" d=\"M 188.5 218.0 Q 188.5 215.9, 189.5 214.8 Q 190.5 213.6, 192.4 213.6 Q 194.3 213.6, 195.4 214.8 Q 196.4 215.9, 196.4 218.0 Q 196.4 220.1, 195.3 221.3 Q 194.3 222.5, 192.4 222.5 Q 190.5 222.5, 189.5 221.3 Q 188.5 220.1, 188.5 218.0 M 192.4 221.5 Q 193.7 221.5, 194.4 220.6 Q 195.2 219.7, 195.2 218.0 Q 195.2 216.3, 194.4 215.4 Q 193.7 214.6, 192.4 214.6 Q 191.1 214.6, 190.4 215.4 Q 189.7 216.3, 189.7 218.0 Q 189.7 219.7, 190.4 220.6 Q 191.1 221.5, 192.4 221.5 \" fill=\"#FF0000\"/>\n",
       "<path class=\"atom-15\" d=\"M 181.0 266.4 L 182.2 266.4 L 182.2 270.0 L 186.6 270.0 L 186.6 266.4 L 187.8 266.4 L 187.8 275.0 L 186.6 275.0 L 186.6 271.0 L 182.2 271.0 L 182.2 275.0 L 181.0 275.0 L 181.0 266.4 \" fill=\"#0000FF\"/>\n",
       "<path class=\"atom-15\" d=\"M 190.9 266.4 L 193.7 270.9 Q 194.0 271.4, 194.4 272.2 Q 194.9 273.0, 194.9 273.0 L 194.9 266.4 L 196.0 266.4 L 196.0 275.0 L 194.8 275.0 L 191.8 270.0 Q 191.5 269.4, 191.1 268.7 Q 190.7 268.1, 190.6 267.8 L 190.6 275.0 L 189.5 275.0 L 189.5 266.4 L 190.9 266.4 \" fill=\"#0000FF\"/>\n",
       "<path class=\"atom-20\" d=\"M 310.5 269.9 Q 310.5 267.9, 311.5 266.7 Q 312.5 265.5, 314.4 265.5 Q 316.3 265.5, 317.4 266.7 Q 318.4 267.9, 318.4 269.9 Q 318.4 272.0, 317.4 273.2 Q 316.3 274.4, 314.4 274.4 Q 312.5 274.4, 311.5 273.2 Q 310.5 272.0, 310.5 269.9 M 314.4 273.4 Q 315.8 273.4, 316.5 272.5 Q 317.2 271.7, 317.2 269.9 Q 317.2 268.2, 316.5 267.4 Q 315.8 266.5, 314.4 266.5 Q 313.1 266.5, 312.4 267.4 Q 311.7 268.2, 311.7 269.9 Q 311.7 271.7, 312.4 272.5 Q 313.1 273.4, 314.4 273.4 \" fill=\"#FF0000\"/>\n",
       "<path class=\"atom-23\" d=\"M 373.0 212.5 L 375.9 217.1 Q 376.2 217.5, 376.6 218.4 Q 377.1 219.2, 377.1 219.2 L 377.1 212.5 L 378.2 212.5 L 378.2 221.1 L 377.0 221.1 L 374.0 216.2 Q 373.7 215.6, 373.3 214.9 Q 372.9 214.2, 372.8 214.0 L 372.8 221.1 L 371.7 221.1 L 371.7 212.5 L 373.0 212.5 \" fill=\"#0000FF\"/>\n",
       "<path class=\"atom-26\" d=\"M 401.1 164.0 Q 401.1 161.9, 402.1 160.8 Q 403.1 159.6, 405.0 159.6 Q 407.0 159.6, 408.0 160.8 Q 409.0 161.9, 409.0 164.0 Q 409.0 166.1, 408.0 167.3 Q 406.9 168.4, 405.0 168.4 Q 403.1 168.4, 402.1 167.3 Q 401.1 166.1, 401.1 164.0 M 405.0 167.5 Q 406.4 167.5, 407.1 166.6 Q 407.8 165.7, 407.8 164.0 Q 407.8 162.3, 407.1 161.4 Q 406.4 160.6, 405.0 160.6 Q 403.7 160.6, 403.0 161.4 Q 402.3 162.3, 402.3 164.0 Q 402.3 165.7, 403.0 166.6 Q 403.7 167.5, 405.0 167.5 \" fill=\"#FF0000\"/>\n",
       "</svg>"
      ],
      "text/plain": [
       "<IPython.core.display.SVG object>"
      ]
     },
     "execution_count": 8,
     "metadata": {},
     "output_type": "execute_result"
    }
   ],
   "source": [
    "mol = Chem.MolFromSmiles('CC1=CC=C(C=C1)N1N=C(C=C1NC(=O)NC1=CC=C(OCCN2CCOCC2)C2=C1C=CC=C2)C(C)(C)C')\n",
    "d = rdMolDraw2D.MolDraw2DSVG(450, 450)\n",
    "rdMolDraw2D.PrepareAndDrawMolecule(d, mol,highlightAtoms=indexs, highlightAtomRadii=atom_rs,highlightAtomColors=atom_cols)\n",
    "d.FinishDrawing()\n",
    "\n",
    "SVG(d.GetDrawingText())\n",
    "\n",
    "# save svg\n",
    "svg = d.GetDrawingText()\n",
    "with open('highlight_atoms.svg', 'w') as f:\n",
    "    f.write(svg)"
   ]
  }
 ],
 "metadata": {
  "kernelspec": {
   "display_name": "wangmeng",
   "language": "python",
   "name": "wangmeng"
  },
  "language_info": {
   "codemirror_mode": {
    "name": "ipython",
    "version": 3
   },
   "file_extension": ".py",
   "mimetype": "text/x-python",
   "name": "python",
   "nbconvert_exporter": "python",
   "pygments_lexer": "ipython3",
   "version": "3.7.1"
  }
 },
 "nbformat": 4,
 "nbformat_minor": 4
}
